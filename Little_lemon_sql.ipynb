{
 "cells": [
  {
   "cell_type": "code",
   "execution_count": null,
   "metadata": {},
   "outputs": [],
   "source": [
    "CREATE PROCEDURE GetMaxQuantity()\n",
    "BEGIN\n",
    "  DECLARE maxQty INT;\n",
    "\n",
    "  SELECT MAX(Quantity) INTO maxQty FROM `LittleLemonDB`.`Orders`;\n",
    "\n",
    "  SELECT maxQty AS 'Maximum Ordered Quantity';\n",
    "END;"
   ]
  },
  {
   "cell_type": "code",
   "execution_count": null,
   "metadata": {},
   "outputs": [],
   "source": [
    "CREATE PROCEDURE `LittleLemonDB`.`CheckBooking`(IN booking_date DATE, IN table_number INT)\n",
    "BEGIN\n",
    "    DECLARE table_status VARCHAR(50);\n",
    "\n",
    "    SELECT COUNT(*) INTO @table_count\n",
    "    FROM `LittleLemonDB`.`Bookings`\n",
    "    WHERE `Date` = booking_date AND `TableNumber` = table_number;\n",
    "\n",
    "    IF (@table_count > 0) THEN\n",
    "        SET table_status = 'Table is already booked.';\n",
    "    ELSE\n",
    "        SET table_status = 'Table is available.';\n",
    "    END IF;\n",
    "\n",
    "    SELECT table_status AS 'Table Status';\n",
    "END;"
   ]
  },
  {
   "cell_type": "code",
   "execution_count": null,
   "metadata": {},
   "outputs": [],
   "source": [
    "CREATE PROCEDURE `LittleLemonDB`.`UpdateBooking`(\n",
    "    IN booking_id_to_update INT, \n",
    "    IN new_booking_date DATE)\n",
    "BEGIN\n",
    "    UPDATE `LittleLemonDB`.`Bookings`\n",
    "    SET `Date` = new_booking_date\n",
    "    WHERE `BookingID` = booking_id_to_update;\n",
    "\n",
    "    SELECT CONCAT('Booking ', booking_id_to_update, ' updated') AS 'Confirmation';\n",
    "END;"
   ]
  },
  {
   "cell_type": "code",
   "execution_count": null,
   "metadata": {},
   "outputs": [],
   "source": [
    "CREATE PROCEDURE `LittleLemonDB`.`AddBooking`(\n",
    "    IN new_booking_id INT, \n",
    "    IN new_customer_id INT, \n",
    "    IN new_booking_date DATE, \n",
    "    IN new_table_number INT, \n",
    "    IN new_staff_id INT)\n",
    "BEGIN\n",
    "    INSERT INTO `LittleLemonDB`.`Bookings`(\n",
    "        `BookingID`, \n",
    "        `CustomerID`, \n",
    "        `Date`, \n",
    "        `TableNumber`, \n",
    "        `StaffID`)\n",
    "    VALUES(\n",
    "        new_booking_id, \n",
    "        new_customer_id, \n",
    "        new_booking_date, \n",
    "        new_table_number,\n",
    "        new_staff_id\n",
    "    );\n",
    "\n",
    "    SELECT 'New booking added' AS 'Confirmation';\n",
    "END;"
   ]
  },
  {
   "cell_type": "code",
   "execution_count": null,
   "metadata": {},
   "outputs": [],
   "source": [
    "CREATE PROCEDURE `LittleLemonDB`.`CancelBooking`(IN booking_id_to_cancel INT)\n",
    "BEGIN\n",
    "    DELETE FROM `LittleLemonDB`.`Bookings`\n",
    "    WHERE `BookingID` = booking_id_to_cancel;\n",
    "\n",
    "    SELECT CONCAT('Booking ', booking_id_to_cancel, ' cancelled') AS 'Confirmation';\n",
    "END;"
   ]
  },
  {
   "cell_type": "code",
   "execution_count": null,
   "metadata": {},
   "outputs": [],
   "source": [
    "CREATE PROCEDURE `LittleLemonDB`.`AddValidBooking`(IN new_booking_date DATE, IN new_table_number INT, IN new_customer_id INT, IN new_staff_id INT)\n",
    "BEGIN\n",
    "    DECLARE table_status INT;\n",
    "    START TRANSACTION;\n",
    "\n",
    "    SELECT COUNT(*) INTO table_status\n",
    "    FROM `LittleLemonDB`.`Bookings`\n",
    "    WHERE `Date` = new_booking_date AND `TableNumber` = new_table_number;\n",
    "\n",
    "    IF (table_status > 0) THEN\n",
    "        ROLLBACK;\n",
    "        SELECT 'Booking could not be completed. Table is already booked on the specified date.' AS 'Status';\n",
    "    ELSE\n",
    "        INSERT INTO `LittleLemonDB`.`Bookings`(`Date`, `TableNumber`, `CustomerID`, `StaffID`)\n",
    "        VALUES(new_booking_date, new_table_number, new_customer_id, new_staff_id);\n",
    "\n",
    "        COMMIT;\n",
    "        SELECT 'Booking completed successfully.' AS 'Status';\n",
    "    END IF;\n",
    "END;"
   ]
  },
  {
   "cell_type": "code",
   "execution_count": null,
   "metadata": {},
   "outputs": [],
   "source": [
    "CREATE PROCEDURE CancelOrder(IN orderIDToDelete INT)\n",
    "BEGIN\n",
    "  DECLARE orderExistence INT;\n",
    "\n",
    "  SELECT COUNT(*) INTO orderExistence FROM `LittleLemonDB`.`Orders` WHERE OrderID = orderIDToDelete;\n",
    "\n",
    "  IF orderExistence > 0 THEN\n",
    "    DELETE FROM `LittleLemonDB`.`OrderDeliveryStatuses` WHERE OrderID = orderIDToDelete;\n",
    "\n",
    "    DELETE FROM `LittleLemonDB`.`Orders` WHERE OrderID = orderIDToDelete;\n",
    "\n",
    "    SELECT CONCAT('Order ', orderIDToDelete, ' is cancelled') AS 'Confirmation';\n",
    "  ELSE\n",
    "    SELECT CONCAT('Order ', orderIDToDelete, ' does not exist') AS 'Confirmation';\n",
    "  END IF;\n",
    "END;"
   ]
  }
 ],
 "metadata": {
  "language_info": {
   "name": "python"
  },
  "orig_nbformat": 4
 },
 "nbformat": 4,
 "nbformat_minor": 2
}
